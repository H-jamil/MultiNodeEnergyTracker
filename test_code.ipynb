{
 "cells": [
  {
   "cell_type": "code",
   "execution_count": 13,
   "id": "e169357b-374d-4251-8216-080c570fc909",
   "metadata": {},
   "outputs": [
    {
     "name": "stdout",
     "output_type": "stream",
     "text": [
      "1732295199.1446583\n",
      "1732295199.1000001\n"
     ]
    }
   ],
   "source": [
    "import time\n",
    "timestamp = time.time()\n",
    "print(timestamp)\n",
    "sample_interval = 0.1\n",
    "rounded_timestamp = round(timestamp / sample_interval) * sample_interval\n",
    "print(rounded_timestamp)"
   ]
  },
  {
   "cell_type": "code",
   "execution_count": 14,
   "id": "4103f31f-b272-47b6-b3ab-3209ea44f974",
   "metadata": {},
   "outputs": [
    {
     "name": "stdout",
     "output_type": "stream",
     "text": [
      "1732295247.892652\n",
      "1732295247.8000002\n"
     ]
    }
   ],
   "source": [
    "next_time = time.time()\n",
    "print(next_time)\n",
    "next_time = next_time - (next_time % sample_interval)\n",
    "print(next_time)"
   ]
  },
  {
   "cell_type": "code",
   "execution_count": 18,
   "id": "ccfb0462-4c28-4ff9-8cfd-b0fd4c0742df",
   "metadata": {},
   "outputs": [
    {
     "name": "stdout",
     "output_type": "stream",
     "text": [
      "17:06:39.144658\n"
     ]
    }
   ],
   "source": [
    "import datetime\n",
    "timestamp_str = datetime.datetime.fromtimestamp(timestamp).strftime('%H:%M:%S.%f')\n",
    "print(timestamp_str)"
   ]
  },
  {
   "cell_type": "code",
   "execution_count": 19,
   "id": "b822f8f5-8e63-4890-b6d1-6eac68d1ab33",
   "metadata": {},
   "outputs": [],
   "source": [
    "import os\n",
    "import time\n",
    "import threading\n",
    "import subprocess\n",
    "import pynvml\n",
    "from datetime import datetime\n",
    "from threading import Thread, Event\n",
    "import argparse\n",
    "import socket\n",
    "import struct\n",
    "import json"
   ]
  },
  {
   "cell_type": "code",
   "execution_count": 26,
   "id": "891b4106-5020-411c-84ba-853bf131ff4e",
   "metadata": {},
   "outputs": [
    {
     "name": "stdout",
     "output_type": "stream",
     "text": [
      "Measurements from Thread A:\n",
      "Time: 1732302022.6, Measurement: Measurement from Thread A 0.7\n",
      "Time: 1732302022.7, Measurement: Measurement from Thread A 0.9\n",
      "Time: 1732302022.8, Measurement: Measurement from Thread A 0.8\n",
      "Time: 1732302022.9, Measurement: Measurement from Thread A 0.7\n",
      "Time: 1732302023.0, Measurement: Measurement from Thread A 0.6\n",
      "Time: 1732302023.1, Measurement: Measurement from Thread A 0.5\n",
      "Time: 1732302023.2, Measurement: Measurement from Thread A 1.0\n",
      "Time: 1732302023.3, Measurement: Measurement from Thread A 0.8\n",
      "Time: 1732302023.4, Measurement: Measurement from Thread A 0.1\n",
      "Time: 1732302023.5, Measurement: Measurement from Thread A 0.9\n",
      "\n",
      "Measurements from Thread B:\n",
      "Time: 1732302022.6, Measurement: Measurement from Thread B 0.5\n",
      "Time: 1732302022.7, Measurement: Measurement from Thread B 0.5\n",
      "Time: 1732302022.8, Measurement: Measurement from Thread B 0.9\n",
      "Time: 1732302022.9, Measurement: Measurement from Thread B 0.6\n",
      "Time: 1732302023.0, Measurement: Measurement from Thread B 0.8\n",
      "Time: 1732302023.1, Measurement: Measurement from Thread B 0.8\n",
      "Time: 1732302023.2, Measurement: Measurement from Thread B 0.5\n",
      "Time: 1732302023.3, Measurement: Measurement from Thread B 0.2\n",
      "Time: 1732302023.4, Measurement: Measurement from Thread B 1.0\n",
      "Time: 1732302023.5, Measurement: Measurement from Thread B 0.7\n"
     ]
    }
   ],
   "source": [
    "import threading\n",
    "import time\n",
    "import random\n",
    "\n",
    "def thread_function(name, barrier, measurements,sample_interval=0.1):\n",
    "    while not stop_event.is_set():\n",
    "        # Wait until all threads have reached this point\n",
    "        barrier.wait()\n",
    "        # Take the measurement\n",
    "        measurement = take_measurement(name)\n",
    "        timestamp = time.time()\n",
    "        next_time= timestamp + sample_interval\n",
    "        rounded_timestamp = round((timestamp / sample_interval) * sample_interval, 1)\n",
    "        measurements.append((rounded_timestamp, measurement))\n",
    "        # Sleep to simulate work and control the measurement interval\n",
    "        sleep_time = next_time - time.time()\n",
    "        if sleep_time > 0:\n",
    "            time.sleep(sleep_time)\n",
    "        else:\n",
    "            pass\n",
    "\n",
    "def take_measurement(thread_name):\n",
    "    # Replace this with actual measurement code\n",
    "    return f\"Measurement from {thread_name} {round(random.random(),1)}\"\n",
    "\n",
    "# Parameters\n",
    "measurement_interval = 0.1  # Time between measurements in seconds\n",
    "total_runtime = 1  # Total time to run the measurement in seconds\n",
    "\n",
    "# Synchronization primitives\n",
    "num_threads = 2\n",
    "barrier = threading.Barrier(num_threads)\n",
    "stop_event = threading.Event()\n",
    "\n",
    "# Data storage\n",
    "measurements_a = []\n",
    "measurements_b = []\n",
    "\n",
    "# Create and start threads\n",
    "thread_a = threading.Thread(target=thread_function, args=(\"Thread A\", barrier, measurements_a))\n",
    "thread_b = threading.Thread(target=thread_function, args=(\"Thread B\", barrier, measurements_b))\n",
    "thread_a.start()\n",
    "thread_b.start()\n",
    "\n",
    "# Let the threads run for the specified total runtime\n",
    "time.sleep(total_runtime)\n",
    "stop_event.set()\n",
    "\n",
    "# Wait for threads to finish\n",
    "thread_a.join()\n",
    "thread_b.join()\n",
    "\n",
    "# Print measurements\n",
    "print(\"Measurements from Thread A:\")\n",
    "for timestamp, measurement in measurements_a:\n",
    "    print(f\"Time: {timestamp}, Measurement: {measurement}\")\n",
    "\n",
    "print(\"\\nMeasurements from Thread B:\")\n",
    "for timestamp, measurement in measurements_b:\n",
    "    print(f\"Time: {timestamp}, Measurement: {measurement}\")\n"
   ]
  },
  {
   "cell_type": "code",
   "execution_count": 2,
   "id": "34ed2888-074d-4b37-930f-145a47d962fb",
   "metadata": {},
   "outputs": [
    {
     "name": "stdout",
     "output_type": "stream",
     "text": [
      "Time: 1732303697.5, Measurement A: Measurement from Thread A 1.0, Measurement B: Measurement from Thread B 0.1\n",
      "Time: 1732303697.6, Measurement A: Measurement from Thread A 0.3, Measurement B: Measurement from Thread B 0.8\n",
      "Time: 1732303697.7, Measurement A: Measurement from Thread A 0.9, Measurement B: Measurement from Thread B 0.2\n",
      "Time: 1732303697.8, Measurement A: Measurement from Thread A 0.1, Measurement B: Measurement from Thread B 0.1\n",
      "Time: 1732303697.9, Measurement A: Measurement from Thread A 1.0, Measurement B: Measurement from Thread B 0.7\n",
      "Time: 1732303698.0, Measurement A: Measurement from Thread A 0.4, Measurement B: Measurement from Thread B 0.3\n",
      "Time: 1732303698.1, Measurement A: Measurement from Thread A 0.4, Measurement B: Measurement from Thread B 0.6\n",
      "Time: 1732303698.2, Measurement A: Measurement from Thread A 0.7, Measurement B: Measurement from Thread B 0.0\n",
      "Time: 1732303698.3, Measurement A: Measurement from Thread A 0.6, Measurement B: Measurement from Thread B 0.0\n",
      "Time: 1732303698.4, Measurement A: Measurement from Thread A 0.6, Measurement B: Measurement from Thread B 0.4\n"
     ]
    }
   ],
   "source": [
    "import threading\n",
    "import time\n",
    "import random\n",
    "from queue import Queue, Empty\n",
    "\n",
    "def thread_function(name, barrier, measurements_queue, sample_interval=0.1):\n",
    "    while not stop_event.is_set():\n",
    "        # Wait until all threads have reached this point\n",
    "        barrier.wait()\n",
    "        timestamp = time.time()\n",
    "        # Round the timestamp to align to sample_interval\n",
    "        rounded_timestamp = round((timestamp / sample_interval) * sample_interval, 1)\n",
    "        # Take the measurement\n",
    "        measurement = take_measurement(name)\n",
    "        measurements_queue.put((rounded_timestamp, measurement))\n",
    "        # Sleep to control the measurement interval\n",
    "        next_time = timestamp + sample_interval\n",
    "        sleep_time = next_time - time.time()\n",
    "        if sleep_time > 0:\n",
    "            time.sleep(sleep_time)\n",
    "        else:\n",
    "            pass\n",
    "\n",
    "def take_measurement(thread_name):\n",
    "    # Replace this with actual measurement code\n",
    "    return f\"Measurement from {thread_name} {round(random.random(),1)}\"\n",
    "\n",
    "def accumulator_function(measurements_a, measurements_b, sample_interval):\n",
    "    data_a = {}\n",
    "    data_b = {}\n",
    "    processed_timestamps = set()\n",
    "    last_measurement_a = None\n",
    "    last_measurement_b = None\n",
    "\n",
    "    while not stop_event.is_set() or not measurements_a.empty() or not measurements_b.empty():\n",
    "        # Try to get new measurements from the queues\n",
    "        try:\n",
    "            while True:\n",
    "                timestamp_a, measurement_a = measurements_a.get_nowait()\n",
    "                data_a[timestamp_a] = measurement_a\n",
    "        except Empty:\n",
    "            pass\n",
    "\n",
    "        try:\n",
    "            while True:\n",
    "                timestamp_b, measurement_b = measurements_b.get_nowait()\n",
    "                data_b[timestamp_b] = measurement_b\n",
    "        except Empty:\n",
    "            pass\n",
    "\n",
    "        # Get all timestamps that have measurements from at least one thread\n",
    "        all_timestamps = set(data_a.keys()) | set(data_b.keys())\n",
    "        pending_timestamps = sorted(all_timestamps - processed_timestamps)\n",
    "\n",
    "        for timestamp in pending_timestamps:\n",
    "            measurement_a = data_a.get(timestamp)\n",
    "            measurement_b = data_b.get(timestamp)\n",
    "\n",
    "            # If we have measurements from both threads, process them\n",
    "            if measurement_a is not None and measurement_b is not None:\n",
    "                print(f\"Time: {timestamp}, Measurement A: {measurement_a}, Measurement B: {measurement_b}\")\n",
    "                last_measurement_a = measurement_a\n",
    "                last_measurement_b = measurement_b\n",
    "                processed_timestamps.add(timestamp)\n",
    "                del data_a[timestamp]\n",
    "                del data_b[timestamp]\n",
    "            else:\n",
    "                # If we don't have both measurements, check if we should fill in missing data\n",
    "                time_since_timestamp = time.time() - timestamp\n",
    "                if time_since_timestamp > sample_interval * 2:\n",
    "                    # Fill in missing measurements using last known values\n",
    "                    if measurement_a is None:\n",
    "                        measurement_a = last_measurement_a\n",
    "                    else:\n",
    "                        last_measurement_a = measurement_a\n",
    "                    if measurement_b is None:\n",
    "                        measurement_b = last_measurement_b\n",
    "                    else:\n",
    "                        last_measurement_b = measurement_b\n",
    "\n",
    "                    print(f\"Time: {timestamp}, Measurement A: {measurement_a}, Measurement B: {measurement_b} (Filled)\")\n",
    "                    processed_timestamps.add(timestamp)\n",
    "                    if timestamp in data_a:\n",
    "                        del data_a[timestamp]\n",
    "                    if timestamp in data_b:\n",
    "                        del data_b[timestamp]\n",
    "\n",
    "        time.sleep(0.01)\n",
    "\n",
    "# Parameters\n",
    "measurement_interval = 0.1  # Time between measurements in seconds\n",
    "total_runtime = 1  # Total time to run the measurement in seconds\n",
    "\n",
    "# Synchronization primitives\n",
    "num_threads = 2\n",
    "barrier = threading.Barrier(num_threads)\n",
    "stop_event = threading.Event()\n",
    "\n",
    "# Data storage\n",
    "measurements_a = Queue()\n",
    "measurements_b = Queue()\n",
    "\n",
    "# Create and start threads\n",
    "thread_a = threading.Thread(target=thread_function, args=(\"Thread A\", barrier, measurements_a, measurement_interval))\n",
    "thread_b = threading.Thread(target=thread_function, args=(\"Thread B\", barrier, measurements_b, measurement_interval))\n",
    "accumulator_thread = threading.Thread(target=accumulator_function, args=(measurements_a, measurements_b, measurement_interval))\n",
    "\n",
    "thread_a.start()\n",
    "thread_b.start()\n",
    "accumulator_thread.start()\n",
    "\n",
    "# Let the threads run for the specified total runtime\n",
    "time.sleep(total_runtime)\n",
    "stop_event.set()\n",
    "\n",
    "# Wait for threads to finish\n",
    "thread_a.join()\n",
    "thread_b.join()\n",
    "accumulator_thread.join()\n"
   ]
  },
  {
   "cell_type": "code",
   "execution_count": 25,
   "id": "f478c4c5-f474-4ed6-b4aa-939e0a0908d6",
   "metadata": {},
   "outputs": [],
   "source": [
    "batch =[(1732332507.4, {'cpu_memory': {'memory_energy': 1.37, 'cpu_energy': 8.92}, 'gpu': {'gpu_energy': 1.68}}), (1732332507.3, {'cpu_memory': {'memory_energy': 1.37, 'cpu_energy': 8.99}, 'gpu': {'gpu_energy': 1.82}}), (1732332507.6, {'cpu_memory': {'memory_energy': 1.37, 'cpu_energy': 8.92}, 'gpu': {'gpu_energy': 1.68}}), (1732332507.7, {'cpu_memory': {'memory_energy': 1.36, 'cpu_energy': 8.97}, 'gpu': {'gpu_energy': 1.68}}), (1732332507.8, {'cpu_memory': {'memory_energy': 1.36, 'cpu_energy': 8.93}, 'gpu': {'gpu_energy': 1.87}}), (1732332508.0, {'cpu_memory': {'memory_energy': 1.47, 'cpu_energy': 9.59}, 'gpu': {'gpu_energy': 1.87}}), (1732332508.1, {'cpu_memory': {'memory_energy': 1.37, 'cpu_energy': 8.94}, 'gpu': {'gpu_energy': 1.87}}), (1732332508.2, {'cpu_memory': {'memory_energy': 1.36, 'cpu_energy': 8.93}, 'gpu': {'gpu_energy': 1.87}}), (1732332508.4, {'cpu_memory': {'memory_energy': 1.38, 'cpu_energy': 9.0}, 'gpu': {'gpu_energy': 1.87}}), (1732332508.5, {'cpu_memory': {'memory_energy': 1.37, 'cpu_energy': 8.93}, 'gpu': {'gpu_energy': 1.87}}), (1732332508.7, {'cpu_memory': {'memory_energy': 1.37, 'cpu_energy': 8.97}, 'gpu': {'gpu_energy': 1.87}}), (1732332508.8, {'cpu_memory': {'memory_energy': 1.37, 'cpu_energy': 8.94}, 'gpu': {'gpu_energy': 1.87}}), (1732332508.9, {'cpu_memory': {'memory_energy': 1.36, 'cpu_energy': 8.92}, 'gpu': {'gpu_energy': 1.74}}), (1732332509.1, {'cpu_memory': {'memory_energy': 1.35, 'cpu_energy': 8.93}, 'gpu': {'gpu_energy': 1.74}}), (1732332509.2, {'cpu_memory': {'memory_energy': 1.35, 'cpu_energy': 8.97}, 'gpu': {'gpu_energy': 1.74}}), (1732332509.3, {'cpu_memory': {'memory_energy': 1.36, 'cpu_energy': 8.98}, 'gpu': {'gpu_energy': 1.78}}), (1732332509.5, {'cpu_memory': {'memory_energy': 1.34, 'cpu_energy': 8.93}, 'gpu': {'gpu_energy': 1.78}}), (1732332509.6, {'cpu_memory': {'memory_energy': 1.36, 'cpu_energy': 8.96}, 'gpu': {'gpu_energy': 1.78}}), (1732332509.8, {'cpu_memory': {'memory_energy': 1.38, 'cpu_energy': 8.97}, 'gpu': {'gpu_energy': 1.78}}), (1732332509.9, {'cpu_memory': {'memory_energy': 1.37, 'cpu_energy': 8.93}, 'gpu': {'gpu_energy': 1.78}})]"
   ]
  },
  {
   "cell_type": "code",
   "execution_count": 26,
   "id": "01e24eb5-156c-4803-91a6-3dfc6219063b",
   "metadata": {},
   "outputs": [
    {
     "name": "stdout",
     "output_type": "stream",
     "text": [
      "(1732332507.4, {'cpu_memory': {'memory_energy': 1.37, 'cpu_energy': 8.92}, 'gpu': {'gpu_energy': 1.68}})\n",
      "(1732332507.3, {'cpu_memory': {'memory_energy': 1.37, 'cpu_energy': 8.99}, 'gpu': {'gpu_energy': 1.82}})\n",
      "(1732332507.6, {'cpu_memory': {'memory_energy': 1.37, 'cpu_energy': 8.92}, 'gpu': {'gpu_energy': 1.68}})\n",
      "(1732332507.7, {'cpu_memory': {'memory_energy': 1.36, 'cpu_energy': 8.97}, 'gpu': {'gpu_energy': 1.68}})\n",
      "(1732332507.8, {'cpu_memory': {'memory_energy': 1.36, 'cpu_energy': 8.93}, 'gpu': {'gpu_energy': 1.87}})\n",
      "(1732332508.0, {'cpu_memory': {'memory_energy': 1.47, 'cpu_energy': 9.59}, 'gpu': {'gpu_energy': 1.87}})\n",
      "(1732332508.1, {'cpu_memory': {'memory_energy': 1.37, 'cpu_energy': 8.94}, 'gpu': {'gpu_energy': 1.87}})\n",
      "(1732332508.2, {'cpu_memory': {'memory_energy': 1.36, 'cpu_energy': 8.93}, 'gpu': {'gpu_energy': 1.87}})\n",
      "(1732332508.4, {'cpu_memory': {'memory_energy': 1.38, 'cpu_energy': 9.0}, 'gpu': {'gpu_energy': 1.87}})\n",
      "(1732332508.5, {'cpu_memory': {'memory_energy': 1.37, 'cpu_energy': 8.93}, 'gpu': {'gpu_energy': 1.87}})\n",
      "(1732332508.7, {'cpu_memory': {'memory_energy': 1.37, 'cpu_energy': 8.97}, 'gpu': {'gpu_energy': 1.87}})\n",
      "(1732332508.8, {'cpu_memory': {'memory_energy': 1.37, 'cpu_energy': 8.94}, 'gpu': {'gpu_energy': 1.87}})\n",
      "(1732332508.9, {'cpu_memory': {'memory_energy': 1.36, 'cpu_energy': 8.92}, 'gpu': {'gpu_energy': 1.74}})\n",
      "(1732332509.1, {'cpu_memory': {'memory_energy': 1.35, 'cpu_energy': 8.93}, 'gpu': {'gpu_energy': 1.74}})\n",
      "(1732332509.2, {'cpu_memory': {'memory_energy': 1.35, 'cpu_energy': 8.97}, 'gpu': {'gpu_energy': 1.74}})\n",
      "(1732332509.3, {'cpu_memory': {'memory_energy': 1.36, 'cpu_energy': 8.98}, 'gpu': {'gpu_energy': 1.78}})\n",
      "(1732332509.5, {'cpu_memory': {'memory_energy': 1.34, 'cpu_energy': 8.93}, 'gpu': {'gpu_energy': 1.78}})\n",
      "(1732332509.6, {'cpu_memory': {'memory_energy': 1.36, 'cpu_energy': 8.96}, 'gpu': {'gpu_energy': 1.78}})\n",
      "(1732332509.8, {'cpu_memory': {'memory_energy': 1.38, 'cpu_energy': 8.97}, 'gpu': {'gpu_energy': 1.78}})\n",
      "(1732332509.9, {'cpu_memory': {'memory_energy': 1.37, 'cpu_energy': 8.93}, 'gpu': {'gpu_energy': 1.78}})\n"
     ]
    }
   ],
   "source": [
    "for i in batch:\n",
    "    print(i)"
   ]
  },
  {
   "cell_type": "code",
   "execution_count": 27,
   "id": "e76be79d-5502-43c8-845b-950ea78d9290",
   "metadata": {},
   "outputs": [
    {
     "name": "stdout",
     "output_type": "stream",
     "text": [
      "(1732332507.3, {'cpu_memory': {'memory_energy': 1.37, 'cpu_energy': 8.99}, 'gpu': {'gpu_energy': 1.82}})\n",
      "(1732332507.4, {'cpu_memory': {'memory_energy': 1.37, 'cpu_energy': 8.92}, 'gpu': {'gpu_energy': 1.68}})\n",
      "(1732332507.6, {'cpu_memory': {'memory_energy': 1.37, 'cpu_energy': 8.92}, 'gpu': {'gpu_energy': 1.68}})\n",
      "(1732332507.7, {'cpu_memory': {'memory_energy': 1.36, 'cpu_energy': 8.97}, 'gpu': {'gpu_energy': 1.68}})\n",
      "(1732332507.8, {'cpu_memory': {'memory_energy': 1.36, 'cpu_energy': 8.93}, 'gpu': {'gpu_energy': 1.87}})\n",
      "(1732332508.0, {'cpu_memory': {'memory_energy': 1.47, 'cpu_energy': 9.59}, 'gpu': {'gpu_energy': 1.87}})\n",
      "(1732332508.1, {'cpu_memory': {'memory_energy': 1.37, 'cpu_energy': 8.94}, 'gpu': {'gpu_energy': 1.87}})\n",
      "(1732332508.2, {'cpu_memory': {'memory_energy': 1.36, 'cpu_energy': 8.93}, 'gpu': {'gpu_energy': 1.87}})\n",
      "(1732332508.4, {'cpu_memory': {'memory_energy': 1.38, 'cpu_energy': 9.0}, 'gpu': {'gpu_energy': 1.87}})\n",
      "(1732332508.5, {'cpu_memory': {'memory_energy': 1.37, 'cpu_energy': 8.93}, 'gpu': {'gpu_energy': 1.87}})\n",
      "(1732332508.7, {'cpu_memory': {'memory_energy': 1.37, 'cpu_energy': 8.97}, 'gpu': {'gpu_energy': 1.87}})\n",
      "(1732332508.8, {'cpu_memory': {'memory_energy': 1.37, 'cpu_energy': 8.94}, 'gpu': {'gpu_energy': 1.87}})\n",
      "(1732332508.9, {'cpu_memory': {'memory_energy': 1.36, 'cpu_energy': 8.92}, 'gpu': {'gpu_energy': 1.74}})\n",
      "(1732332509.1, {'cpu_memory': {'memory_energy': 1.35, 'cpu_energy': 8.93}, 'gpu': {'gpu_energy': 1.74}})\n",
      "(1732332509.2, {'cpu_memory': {'memory_energy': 1.35, 'cpu_energy': 8.97}, 'gpu': {'gpu_energy': 1.74}})\n",
      "(1732332509.3, {'cpu_memory': {'memory_energy': 1.36, 'cpu_energy': 8.98}, 'gpu': {'gpu_energy': 1.78}})\n",
      "(1732332509.5, {'cpu_memory': {'memory_energy': 1.34, 'cpu_energy': 8.93}, 'gpu': {'gpu_energy': 1.78}})\n",
      "(1732332509.6, {'cpu_memory': {'memory_energy': 1.36, 'cpu_energy': 8.96}, 'gpu': {'gpu_energy': 1.78}})\n",
      "(1732332509.8, {'cpu_memory': {'memory_energy': 1.38, 'cpu_energy': 8.97}, 'gpu': {'gpu_energy': 1.78}})\n",
      "(1732332509.9, {'cpu_memory': {'memory_energy': 1.37, 'cpu_energy': 8.93}, 'gpu': {'gpu_energy': 1.78}})\n",
      "[1732332507.5, 1732332507.9, 1732332508.3, 1732332508.6, 1732332509.0, 1732332509.4, 1732332509.7]\n"
     ]
    }
   ],
   "source": [
    "batch.sort(key=lambda x: x[0])\n",
    "for i in batch:\n",
    "    print(i)\n",
    "timestamps = [entry[0] for entry in batch]\n",
    "missed_timestamps=[]\n",
    "for i in range(len(timestamps) - 1):\n",
    "    if timestamps[i + 1] * 10 - timestamps[i] * 10 == 2:\n",
    "        missed_timestamps.append((timestamps[i] * 10 + 1)/10)\n",
    "        # print((timestamps[i] * 10 + 1)/10)\n",
    "print(missed_timestamps)"
   ]
  },
  {
   "cell_type": "code",
   "execution_count": null,
   "id": "5cb0ec37-a299-43ce-905a-dd924a76e9db",
   "metadata": {},
   "outputs": [],
   "source": []
  },
  {
   "cell_type": "code",
   "execution_count": 28,
   "id": "f9946e9d-cc1b-4d6a-8a70-8f0a94373026",
   "metadata": {},
   "outputs": [
    {
     "name": "stdout",
     "output_type": "stream",
     "text": [
      "(1732332507.3, {'cpu_memory': {'memory_energy': 1.37, 'cpu_energy': 8.99}, 'gpu': {'gpu_energy': 1.82}})\n",
      "(1732332507.4, {'cpu_memory': {'memory_energy': 1.37, 'cpu_energy': 8.92}, 'gpu': {'gpu_energy': 1.68}})\n",
      "(1732332507.5, {'cpu_memory': {'memory_energy': 1.37, 'cpu_energy': 8.92}, 'gpu': {'gpu_energy': 1.68}})\n",
      "(1732332507.6, {'cpu_memory': {'memory_energy': 1.37, 'cpu_energy': 8.92}, 'gpu': {'gpu_energy': 1.68}})\n",
      "(1732332507.7, {'cpu_memory': {'memory_energy': 1.36, 'cpu_energy': 8.97}, 'gpu': {'gpu_energy': 1.68}})\n",
      "(1732332507.8, {'cpu_memory': {'memory_energy': 1.36, 'cpu_energy': 8.93}, 'gpu': {'gpu_energy': 1.87}})\n",
      "(1732332507.9, {'cpu_memory': {'memory_energy': 1.47, 'cpu_energy': 9.59}, 'gpu': {'gpu_energy': 1.87}})\n",
      "(1732332508.0, {'cpu_memory': {'memory_energy': 1.47, 'cpu_energy': 9.59}, 'gpu': {'gpu_energy': 1.87}})\n",
      "(1732332508.1, {'cpu_memory': {'memory_energy': 1.37, 'cpu_energy': 8.94}, 'gpu': {'gpu_energy': 1.87}})\n",
      "(1732332508.2, {'cpu_memory': {'memory_energy': 1.36, 'cpu_energy': 8.93}, 'gpu': {'gpu_energy': 1.87}})\n",
      "(1732332508.3, {'cpu_memory': {'memory_energy': 1.36, 'cpu_energy': 8.93}, 'gpu': {'gpu_energy': 1.87}})\n",
      "(1732332508.4, {'cpu_memory': {'memory_energy': 1.38, 'cpu_energy': 9.0}, 'gpu': {'gpu_energy': 1.87}})\n",
      "(1732332508.5, {'cpu_memory': {'memory_energy': 1.37, 'cpu_energy': 8.93}, 'gpu': {'gpu_energy': 1.87}})\n",
      "(1732332508.6, {'cpu_memory': {'memory_energy': 1.37, 'cpu_energy': 8.93}, 'gpu': {'gpu_energy': 1.87}})\n",
      "(1732332508.7, {'cpu_memory': {'memory_energy': 1.37, 'cpu_energy': 8.97}, 'gpu': {'gpu_energy': 1.87}})\n",
      "(1732332508.8, {'cpu_memory': {'memory_energy': 1.37, 'cpu_energy': 8.94}, 'gpu': {'gpu_energy': 1.87}})\n",
      "(1732332508.9, {'cpu_memory': {'memory_energy': 1.36, 'cpu_energy': 8.92}, 'gpu': {'gpu_energy': 1.74}})\n",
      "(1732332509.0, {'cpu_memory': {'memory_energy': 1.36, 'cpu_energy': 8.92}, 'gpu': {'gpu_energy': 1.74}})\n",
      "(1732332509.1, {'cpu_memory': {'memory_energy': 1.35, 'cpu_energy': 8.93}, 'gpu': {'gpu_energy': 1.74}})\n",
      "(1732332509.2, {'cpu_memory': {'memory_energy': 1.35, 'cpu_energy': 8.97}, 'gpu': {'gpu_energy': 1.74}})\n",
      "(1732332509.3, {'cpu_memory': {'memory_energy': 1.36, 'cpu_energy': 8.98}, 'gpu': {'gpu_energy': 1.78}})\n",
      "(1732332509.4, {'cpu_memory': {'memory_energy': 1.34, 'cpu_energy': 8.93}, 'gpu': {'gpu_energy': 1.78}})\n",
      "(1732332509.5, {'cpu_memory': {'memory_energy': 1.34, 'cpu_energy': 8.93}, 'gpu': {'gpu_energy': 1.78}})\n",
      "(1732332509.6, {'cpu_memory': {'memory_energy': 1.36, 'cpu_energy': 8.96}, 'gpu': {'gpu_energy': 1.78}})\n",
      "(1732332509.7, {'cpu_memory': {'memory_energy': 1.38, 'cpu_energy': 8.97}, 'gpu': {'gpu_energy': 1.78}})\n",
      "(1732332509.8, {'cpu_memory': {'memory_energy': 1.38, 'cpu_energy': 8.97}, 'gpu': {'gpu_energy': 1.78}})\n",
      "(1732332509.9, {'cpu_memory': {'memory_energy': 1.37, 'cpu_energy': 8.93}, 'gpu': {'gpu_energy': 1.78}})\n"
     ]
    }
   ],
   "source": [
    "def fill_missing_timestamps(list_of_tuples, missing_timestamps):\n",
    "    \"\"\"\n",
    "    Fills the missing timestamps in the list of tuples with measurements copied\n",
    "    from the nearest timestamp.\n",
    "    \"\"\"\n",
    "    # Sort the original list by timestamps\n",
    "    list_of_tuples.sort(key=lambda x: x[0])\n",
    "    \n",
    "    # Combine original timestamps and measurements into a dictionary for easy access\n",
    "    timestamp_to_measurement = {timestamp: measurement for timestamp, measurement in list_of_tuples}\n",
    "\n",
    "    # Process each missing timestamp\n",
    "    for missing in sorted(missing_timestamps):\n",
    "        # Find the closest timestamp in the existing list\n",
    "        closest_timestamp = min(timestamp_to_measurement.keys(), key=lambda t: abs(t - missing))\n",
    "        # Copy the measurement of the closest timestamp to the missing timestamp\n",
    "        timestamp_to_measurement[missing] = timestamp_to_measurement[closest_timestamp]\n",
    "\n",
    "    # Create the new list of tuples, sorted by timestamps\n",
    "    filled_list = sorted(timestamp_to_measurement.items(), key=lambda x: x[0])\n",
    "    return filled_list\n",
    "\n",
    "f_batch=fill_missing_timestamps(batch,missed_timestamps)\n",
    "for i in f_batch:\n",
    "    print(i)"
   ]
  },
  {
   "cell_type": "code",
   "execution_count": 31,
   "id": "926be055-4e5b-41ee-aeb0-a92d48152f8d",
   "metadata": {},
   "outputs": [
    {
     "name": "stdout",
     "output_type": "stream",
     "text": [
      "[{'node_id': 'compute2', 'timestamp': 1732332507.3, 'measurement': {'cpu_memory': {'memory_energy': 1.37, 'cpu_energy': 8.99}, 'gpu': {'gpu_energy': 1.82}}}, {'node_id': 'compute2', 'timestamp': 1732332507.4, 'measurement': {'cpu_memory': {'memory_energy': 1.37, 'cpu_energy': 8.92}, 'gpu': {'gpu_energy': 1.68}}}, {'node_id': 'compute2', 'timestamp': 1732332507.5, 'measurement': {'cpu_memory': {'memory_energy': 1.37, 'cpu_energy': 8.92}, 'gpu': {'gpu_energy': 1.68}}}, {'node_id': 'compute2', 'timestamp': 1732332507.6, 'measurement': {'cpu_memory': {'memory_energy': 1.37, 'cpu_energy': 8.92}, 'gpu': {'gpu_energy': 1.68}}}, {'node_id': 'compute2', 'timestamp': 1732332507.7, 'measurement': {'cpu_memory': {'memory_energy': 1.36, 'cpu_energy': 8.97}, 'gpu': {'gpu_energy': 1.68}}}, {'node_id': 'compute2', 'timestamp': 1732332507.8, 'measurement': {'cpu_memory': {'memory_energy': 1.36, 'cpu_energy': 8.93}, 'gpu': {'gpu_energy': 1.87}}}, {'node_id': 'compute2', 'timestamp': 1732332507.9, 'measurement': {'cpu_memory': {'memory_energy': 1.47, 'cpu_energy': 9.59}, 'gpu': {'gpu_energy': 1.87}}}, {'node_id': 'compute2', 'timestamp': 1732332508.0, 'measurement': {'cpu_memory': {'memory_energy': 1.47, 'cpu_energy': 9.59}, 'gpu': {'gpu_energy': 1.87}}}, {'node_id': 'compute2', 'timestamp': 1732332508.1, 'measurement': {'cpu_memory': {'memory_energy': 1.37, 'cpu_energy': 8.94}, 'gpu': {'gpu_energy': 1.87}}}, {'node_id': 'compute2', 'timestamp': 1732332508.2, 'measurement': {'cpu_memory': {'memory_energy': 1.36, 'cpu_energy': 8.93}, 'gpu': {'gpu_energy': 1.87}}}, {'node_id': 'compute2', 'timestamp': 1732332508.3, 'measurement': {'cpu_memory': {'memory_energy': 1.36, 'cpu_energy': 8.93}, 'gpu': {'gpu_energy': 1.87}}}, {'node_id': 'compute2', 'timestamp': 1732332508.4, 'measurement': {'cpu_memory': {'memory_energy': 1.38, 'cpu_energy': 9.0}, 'gpu': {'gpu_energy': 1.87}}}, {'node_id': 'compute2', 'timestamp': 1732332508.5, 'measurement': {'cpu_memory': {'memory_energy': 1.37, 'cpu_energy': 8.93}, 'gpu': {'gpu_energy': 1.87}}}, {'node_id': 'compute2', 'timestamp': 1732332508.6, 'measurement': {'cpu_memory': {'memory_energy': 1.37, 'cpu_energy': 8.93}, 'gpu': {'gpu_energy': 1.87}}}, {'node_id': 'compute2', 'timestamp': 1732332508.7, 'measurement': {'cpu_memory': {'memory_energy': 1.37, 'cpu_energy': 8.97}, 'gpu': {'gpu_energy': 1.87}}}, {'node_id': 'compute2', 'timestamp': 1732332508.8, 'measurement': {'cpu_memory': {'memory_energy': 1.37, 'cpu_energy': 8.94}, 'gpu': {'gpu_energy': 1.87}}}, {'node_id': 'compute2', 'timestamp': 1732332508.9, 'measurement': {'cpu_memory': {'memory_energy': 1.36, 'cpu_energy': 8.92}, 'gpu': {'gpu_energy': 1.74}}}, {'node_id': 'compute2', 'timestamp': 1732332509.0, 'measurement': {'cpu_memory': {'memory_energy': 1.36, 'cpu_energy': 8.92}, 'gpu': {'gpu_energy': 1.74}}}, {'node_id': 'compute2', 'timestamp': 1732332509.1, 'measurement': {'cpu_memory': {'memory_energy': 1.35, 'cpu_energy': 8.93}, 'gpu': {'gpu_energy': 1.74}}}, {'node_id': 'compute2', 'timestamp': 1732332509.2, 'measurement': {'cpu_memory': {'memory_energy': 1.35, 'cpu_energy': 8.97}, 'gpu': {'gpu_energy': 1.74}}}, {'node_id': 'compute2', 'timestamp': 1732332509.3, 'measurement': {'cpu_memory': {'memory_energy': 1.36, 'cpu_energy': 8.98}, 'gpu': {'gpu_energy': 1.78}}}, {'node_id': 'compute2', 'timestamp': 1732332509.4, 'measurement': {'cpu_memory': {'memory_energy': 1.34, 'cpu_energy': 8.93}, 'gpu': {'gpu_energy': 1.78}}}, {'node_id': 'compute2', 'timestamp': 1732332509.5, 'measurement': {'cpu_memory': {'memory_energy': 1.34, 'cpu_energy': 8.93}, 'gpu': {'gpu_energy': 1.78}}}, {'node_id': 'compute2', 'timestamp': 1732332509.6, 'measurement': {'cpu_memory': {'memory_energy': 1.36, 'cpu_energy': 8.96}, 'gpu': {'gpu_energy': 1.78}}}, {'node_id': 'compute2', 'timestamp': 1732332509.7, 'measurement': {'cpu_memory': {'memory_energy': 1.38, 'cpu_energy': 8.97}, 'gpu': {'gpu_energy': 1.78}}}, {'node_id': 'compute2', 'timestamp': 1732332509.8, 'measurement': {'cpu_memory': {'memory_energy': 1.38, 'cpu_energy': 8.97}, 'gpu': {'gpu_energy': 1.78}}}, {'node_id': 'compute2', 'timestamp': 1732332509.9, 'measurement': {'cpu_memory': {'memory_energy': 1.37, 'cpu_energy': 8.93}, 'gpu': {'gpu_energy': 1.78}}}] 27\n"
     ]
    }
   ],
   "source": [
    "consolidated_data = [\n",
    "            {\n",
    "                'node_id': 'compute2',\n",
    "                'timestamp': timestamp,\n",
    "                'measurement': measurement\n",
    "            }\n",
    "            for timestamp, measurement in f_batch\n",
    "        ]\n",
    "print(consolidated_data, len(consolidated_data))"
   ]
  },
  {
   "cell_type": "code",
   "execution_count": null,
   "id": "55476a4b-da71-4e73-8555-d126553ddc3f",
   "metadata": {},
   "outputs": [],
   "source": []
  }
 ],
 "metadata": {
  "kernelspec": {
   "display_name": "Python 3 (ipykernel)",
   "language": "python",
   "name": "python3"
  },
  "language_info": {
   "codemirror_mode": {
    "name": "ipython",
    "version": 3
   },
   "file_extension": ".py",
   "mimetype": "text/x-python",
   "name": "python",
   "nbconvert_exporter": "python",
   "pygments_lexer": "ipython3",
   "version": "3.10.1"
  }
 },
 "nbformat": 4,
 "nbformat_minor": 5
}
